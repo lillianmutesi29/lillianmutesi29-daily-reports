{
 "cells": [
  {
   "cell_type": "markdown",
   "id": "b80793db-065c-4098-a7d0-fa8b871af767",
   "metadata": {},
   "source": [
    "****\n",
    "\n",
    "# <center> <b> <span style=\"color:orange;\"> Python Proficiency for Scientific Computing and Data Science (PyPro-SCiDaS)  </span> </b></center>\n",
    "\n",
    "### <center> <b> <span style=\"color:green;\">An Initiation to Programming using Python (Init2Py) </span> </b></center>\n",
    "    "
   ]
  },
  {
   "cell_type": "markdown",
   "id": "0e098b76-87a0-4dd1-bc5f-2fdccbcecb2a",
   "metadata": {},
   "source": [
    "****\n",
    "\n",
    "# <center> <b> <span style=\"color:blue;\">Lecture 1: Variables and assignments(how to find the type of the variable) </span> </b></center>\n",
    "\n",
    "\n",
    "****\n"
   ]
  },
  {
   "cell_type": "markdown",
   "id": "23f83f1f-d1a2-4576-8dc4-96ad82a828d5",
   "metadata": {},
   "source": [
    "\n",
    "```python\n",
    "# Initially, 'data' is an integer\n",
    "data = 100\n",
    "\n",
    "# Now, 'data' is a string\n",
    "data = \"Dynamic Typing\"\n",
    "\n",
    "# And now 'data' is a list\n",
    "data = [1, 2, 3]\n",
    "\n",
    "# Python handles these changes without any issues\n",
    "```"
   ]
  },
  {
   "cell_type": "code",
   "execution_count": 3,
   "id": "becedb05-3e78-4d02-b8a8-e73c79d69eee",
   "metadata": {},
   "outputs": [
    {
     "data": {
      "text/plain": [
       "int"
      ]
     },
     "execution_count": 3,
     "metadata": {},
     "output_type": "execute_result"
    }
   ],
   "source": [
    "data=100\n",
    "type(data)"
   ]
  },
  {
   "cell_type": "code",
   "execution_count": 4,
   "id": "fe670cfb-1396-45db-99aa-4a88069ae5ae",
   "metadata": {},
   "outputs": [
    {
     "data": {
      "text/plain": [
       "str"
      ]
     },
     "execution_count": 4,
     "metadata": {},
     "output_type": "execute_result"
    }
   ],
   "source": [
    "data=\"kigali\"\n",
    "type(data)"
   ]
  },
  {
   "cell_type": "code",
   "execution_count": 5,
   "id": "a35e41aa-9b10-4824-a615-edb526f38533",
   "metadata": {},
   "outputs": [
    {
     "data": {
      "text/plain": [
       "float"
      ]
     },
     "execution_count": 5,
     "metadata": {},
     "output_type": "execute_result"
    }
   ],
   "source": [
    "data=2.8\n",
    "type(data)\n",
    "\n"
   ]
  },
  {
   "cell_type": "markdown",
   "id": "ab778be5-5cee-40e4-a044-c2966c77cb3e",
   "metadata": {},
   "source": [
    " **Coercion in Python**\n",
    "\n",
    "**Coercion** in Python refers to the automatic conversion of one data type to another during operations that involve different types. Python is designed to handle these type conversions in a way that makes the language easier to use and reduces the need for manual type casting.\n",
    "\n",
    "#### Key Points About Coercion:\n",
    "\n",
    "- **Implicit Coercion**: Python automatically converts one data type to another when necessary to perform an operation. This usually happens in arithmetic operations involving different types, like an integer and a float.\n",
    "  - For example, if you add an integer to a float, Python will convert the integer to a float before performing the addition.\n",
    "  \n",
    "- **Explicit Coercion**: While Python handles many conversions automatically, you can also manually convert types using built-in functions like `int()`, `float()`, `str()`, etc. This is known as explicit type casting."
   ]
  },
  {
   "cell_type": "markdown",
   "id": "64abeeea-2cec-4805-b775-be06a9e01784",
   "metadata": {},
   "source": [
    " **Implicit Coercion Example**\n",
    "\n",
    "```python\n",
    "# Adding an integer and a float\n",
    "x = 5        # int\n",
    "y = 3.2      # float\n",
    "\n",
    "# Python automatically converts 'x' to a float before performing the addition\n",
    "result = x + y\n",
    "\n",
    "print(result)  # Output: 8.2 (float)\n",
    "```\n",
    "\n",
    "In the example above, Python automatically converts the integer `5` to a float `5.0` to perform the addition with the float `3.2`, resulting in a float `8.2`."
   ]
  },
  {
   "cell_type": "code",
   "execution_count": 6,
   "id": "9a52172b-7f7f-463b-b698-223cb9a22633",
   "metadata": {},
   "outputs": [
    {
     "data": {
      "text/plain": [
       "float"
      ]
     },
     "execution_count": 6,
     "metadata": {},
     "output_type": "execute_result"
    }
   ],
   "source": [
    "# Adding an integer and a float\n",
    "x = 5        # int\n",
    "y = 3.2      # float\n",
    "type(x+y)"
   ]
  },
  {
   "cell_type": "markdown",
   "id": "aee819ce-6050-48d4-8ce0-581f700d0834",
   "metadata": {},
   "source": [
    "**Explicit Coercion Example**\n",
    "\n",
    "```python\n",
    "# Converting a float to an integer\n",
    "a = 7.9\n",
    "b = int(a)  # Explicit coercion using the int() function\n",
    "\n",
    "print(b)  # Output: 7 (integer, with the decimal part truncated)\n",
    "```\n",
    "\n",
    "Here, the float `7.9` is explicitly converted to the integer `7` using the `int()` function, which removes the fractional part."
   ]
  },
  {
   "cell_type": "code",
   "execution_count": 7,
   "id": "568cf4d2-647c-40a3-894d-06b6329fbd92",
   "metadata": {},
   "outputs": [
    {
     "name": "stdout",
     "output_type": "stream",
     "text": [
      "7\n"
     ]
    }
   ],
   "source": [
    "a = 7.9\n",
    "b = int(a)  # Explicit coercion using the int() function\n",
    "\n",
    "print(b)  # Output: 7 (integer, with the decimal part truncated)"
   ]
  },
  {
   "cell_type": "code",
   "execution_count": 8,
   "id": "9380101f-3db7-46cf-8e4a-f48f4b80f0f0",
   "metadata": {},
   "outputs": [
    {
     "name": "stdout",
     "output_type": "stream",
     "text": [
      "7.9\n",
      "<class 'float'>\n",
      "7.9\n"
     ]
    },
    {
     "data": {
      "text/plain": [
       "str"
      ]
     },
     "execution_count": 8,
     "metadata": {},
     "output_type": "execute_result"
    }
   ],
   "source": [
    "c= str(a)\n",
    "print(a)\n",
    "print(type(a))\n",
    "print(c)\n",
    "type(c)"
   ]
  },
  {
   "cell_type": "markdown",
   "id": "333d005b-d756-4371-b635-5628e66db7f4",
   "metadata": {},
   "source": [
    "**Common Coercion Scenarios:**\n",
    "\n",
    "- **String to Integer/Float**: When you need to convert a string containing numeric characters to an integer or float.\n",
    "  ```python\n",
    "  num_str = \"123\"\n",
    "  num_int = int(num_str)   # Converts to integer 123\n",
    "  num_float = float(num_str)  # Converts to float 123.0\n",
    "  ```\n",
    "\n",
    "- **Integer/Float to String**: When you need to concatenate a number with a string.\n",
    "  ```python\n",
    "  age = 25\n",
    "  message = \"I am \" + str(age) + \" years old.\"\n",
    "  ```\n",
    "\n",
    "- **Boolean to Integer**: `True` is coerced to `1` and `False` to `0` in numeric operations.\n",
    "  ```python\n",
    "  result = True + 2   # Output: 3 (1 + 2)\n",
    "  ```\n",
    "\n",
    "#### 2.5.3. Pros and Cons of Coercion:\n",
    "\n",
    "- **Pros**:\n",
    "  - Simplifies code by reducing the need for explicit type conversions.\n",
    "  - Makes the language more intuitive and user-friendly.\n",
    "\n",
    "- **Cons**:\n",
    "  - Can lead to unexpected results if the automatic type conversion doesn't align with the programmer's intent.\n",
    "  - Potentially hides bugs related to incorrect data types.\n",
    "\n",
    "Coercion in Python allows for smoother and more intuitive operations involving different data types. While it adds convenience, it's important to understand how and when Python performs these conversions to avoid unexpected behaviors."
   ]
  },
  {
   "cell_type": "code",
   "execution_count": 10,
   "id": "60328bd4-4a0f-46e6-8478-b90253086032",
   "metadata": {},
   "outputs": [
    {
     "name": "stdout",
     "output_type": "stream",
     "text": [
      "I am 25 years old\n"
     ]
    },
    {
     "data": {
      "text/plain": [
       "str"
      ]
     },
     "execution_count": 10,
     "metadata": {},
     "output_type": "execute_result"
    }
   ],
   "source": [
    "age=25\n",
    "message=(\"I am \"+  str(age)+\" years old\")\n",
    "print(message)\n",
    "type(message)"
   ]
  },
  {
   "cell_type": "markdown",
   "id": "df6fea97-1d12-4eda-8fe9-969c8de1315b",
   "metadata": {},
   "source": [
    " **Methods associated with variables**\n",
    "\n",
    "In Python, every variable is linked to a variety of attributes and methods that define its behavior and interactions. These methods are functions that are built into the variable's type and allow you to perform various operations on the variable. For example, methods can help you manipulate strings, perform mathematical operations, or interact with lists and dictionaries.\n",
    "\n",
    "The `dir()` function is useful for exploring these methods and understanding what operations are available for a given variable. By calling `dir()` on a variable, you get a list of all its attributes and methods, including those inherited from its type. This can be particularly helpful for discovering how to use a variable's methods or for debugging.\n",
    "\n",
    "Here's how you might use `dir()`:\n",
    "\n",
    "```python\n",
    "# Example with a string variable\n",
    "text = \"Hello, world!\"\n",
    "print(dir(text))\n",
    "\n",
    "# Example with a list variable\n",
    "numbers = [1, 2, 3, 4, 5]\n",
    "print(dir(numbers))\n",
    "```"
   ]
  },
  {
   "cell_type": "code",
   "execution_count": 11,
   "id": "e9388a48-e761-449a-bb84-87ab06476fac",
   "metadata": {},
   "outputs": [],
   "source": [
    "x = 2.5 # Définit une variable numérique x\n",
    "y = 'my text' # Définit une variable en chaîne de caractères y."
   ]
  },
  {
   "cell_type": "code",
   "execution_count": 12,
   "id": "51e84d6e-978d-4df9-bbf4-7ad874474831",
   "metadata": {},
   "outputs": [
    {
     "name": "stdout",
     "output_type": "stream",
     "text": [
      "['__abs__', '__add__', '__bool__', '__ceil__', '__class__', '__delattr__', '__dir__', '__divmod__', '__doc__', '__eq__', '__float__', '__floor__', '__floordiv__', '__format__', '__ge__', '__getattribute__', '__getformat__', '__getnewargs__', '__getstate__', '__gt__', '__hash__', '__init__', '__init_subclass__', '__int__', '__le__', '__lt__', '__mod__', '__mul__', '__ne__', '__neg__', '__new__', '__pos__', '__pow__', '__radd__', '__rdivmod__', '__reduce__', '__reduce_ex__', '__repr__', '__rfloordiv__', '__rmod__', '__rmul__', '__round__', '__rpow__', '__rsub__', '__rtruediv__', '__setattr__', '__sizeof__', '__str__', '__sub__', '__subclasshook__', '__truediv__', '__trunc__', 'as_integer_ratio', 'conjugate', 'fromhex', 'hex', 'imag', 'is_integer', 'real']\n"
     ]
    }
   ],
   "source": [
    "print(dir(x))"
   ]
  },
  {
   "cell_type": "code",
   "execution_count": 13,
   "id": "af08ec4f-2381-4a96-86ff-816f0cd28efb",
   "metadata": {},
   "outputs": [
    {
     "data": {
      "text/plain": [
       "0.0"
      ]
     },
     "execution_count": 13,
     "metadata": {},
     "output_type": "execute_result"
    }
   ],
   "source": [
    "x.imag"
   ]
  },
  {
   "cell_type": "code",
   "execution_count": 14,
   "id": "83855381-8ffd-489a-86db-b87301fe5e2e",
   "metadata": {},
   "outputs": [
    {
     "data": {
      "text/plain": [
       "2.5"
      ]
     },
     "execution_count": 14,
     "metadata": {},
     "output_type": "execute_result"
    }
   ],
   "source": [
    "x.real\n"
   ]
  },
  {
   "cell_type": "code",
   "execution_count": 15,
   "id": "e8b70ab3-3bf6-4008-be9f-a9cb15069125",
   "metadata": {},
   "outputs": [
    {
     "name": "stdout",
     "output_type": "stream",
     "text": [
      "['__add__', '__class__', '__contains__', '__delattr__', '__dir__', '__doc__', '__eq__', '__format__', '__ge__', '__getattribute__', '__getitem__', '__getnewargs__', '__getstate__', '__gt__', '__hash__', '__init__', '__init_subclass__', '__iter__', '__le__', '__len__', '__lt__', '__mod__', '__mul__', '__ne__', '__new__', '__reduce__', '__reduce_ex__', '__repr__', '__rmod__', '__rmul__', '__setattr__', '__sizeof__', '__str__', '__subclasshook__', 'capitalize', 'casefold', 'center', 'count', 'encode', 'endswith', 'expandtabs', 'find', 'format', 'format_map', 'index', 'isalnum', 'isalpha', 'isascii', 'isdecimal', 'isdigit', 'isidentifier', 'islower', 'isnumeric', 'isprintable', 'isspace', 'istitle', 'isupper', 'join', 'ljust', 'lower', 'lstrip', 'maketrans', 'partition', 'removeprefix', 'removesuffix', 'replace', 'rfind', 'rindex', 'rjust', 'rpartition', 'rsplit', 'rstrip', 'split', 'splitlines', 'startswith', 'strip', 'swapcase', 'title', 'translate', 'upper', 'zfill']\n"
     ]
    }
   ],
   "source": [
    "print(dir(y))"
   ]
  },
  {
   "cell_type": "markdown",
   "id": "859e62f5-a830-4c75-a990-2bffdfcb6f24",
   "metadata": {},
   "source": [
    "To get help on a specific method in Python, you can use the `help()` function. The syntax is `help(variable_name.method_name)`, where `method_name` is the name of the method you are interested in. For example, if you have a numeric variable of type `float`, which includes a method named `conjugate`, you can obtain information about this method by running:\n",
    "\n",
    "```python\n",
    "print(help(x.conjugate))\n",
    "```"
   ]
  },
  {
   "cell_type": "code",
   "execution_count": 16,
   "id": "e175b850-577f-42fa-b431-018949c622a8",
   "metadata": {},
   "outputs": [
    {
     "name": "stdout",
     "output_type": "stream",
     "text": [
      "Help on built-in function conjugate:\n",
      "\n",
      "conjugate() method of builtins.float instance\n",
      "    Return self, the complex conjugate of any float.\n",
      "\n",
      "None\n"
     ]
    }
   ],
   "source": [
    "print(help(x.conjugate))"
   ]
  },
  {
   "cell_type": "markdown",
   "id": "279f1dd7-3fd8-4d39-9387-62c08e462497",
   "metadata": {},
   "source": [
    " \n",
    "\n",
    "In Python, the `input()` function is used to capture user input from the console. It pauses the program's execution and waits for the user to type something, which is then returned as a string. This input can be stored in a variable, allowing you to use the entered data later in your code.\n",
    "\n",
    "####  Basic Usage\n",
    "\n",
    "The basic syntax for the `input()` function is:\n",
    "\n",
    "```python\n",
    "variable_name = input(prompt)\n",
    "```\n",
    "\n",
    "- **`prompt`**: This is an optional argument. It is a string that is displayed to the user, providing instructions or asking for specific input.\n",
    "- **`variable_name`**: This is the variable that will store the value entered by the user.\n",
    "\n",
    "#### Example\n",
    "\n",
    "Here’s a simple example of using the `input()` function:\n",
    "\n",
    "```python\n",
    "name = input(\"Enter your name: \")\n",
    "print(\"Hello, \" + name + \"!\")\n",
    "```\n",
    "\n",
    "In this example:\n",
    "- The program prompts the user to enter their name.\n",
    "- The entered name is stored in the variable `name`.\n",
    "- The program then greets the user using the name provided."
   ]
  },
  {
   "cell_type": "code",
   "execution_count": 17,
   "id": "9a6fe0ae-0d70-4c03-989e-85aaf53ef81f",
   "metadata": {},
   "outputs": [
    {
     "name": "stdin",
     "output_type": "stream",
     "text": [
      "Enter your name:  mutesi\n"
     ]
    },
    {
     "name": "stdout",
     "output_type": "stream",
     "text": [
      "Hello, mutesi!\n"
     ]
    }
   ],
   "source": [
    "name = input(\"Enter your name: \")\n",
    "print(\"Hello, \" + name + \"!\")\n"
   ]
  },
  {
   "cell_type": "code",
   "execution_count": 18,
   "id": "b143ea26-568f-4859-aef9-ca83220ac95a",
   "metadata": {},
   "outputs": [
    {
     "name": "stdin",
     "output_type": "stream",
     "text": [
      "Enter your age:  24\n"
     ]
    },
    {
     "name": "stdout",
     "output_type": "stream",
     "text": [
      "Hello, mutesi!\n"
     ]
    },
    {
     "data": {
      "text/plain": [
       "str"
      ]
     },
     "execution_count": 18,
     "metadata": {},
     "output_type": "execute_result"
    }
   ],
   "source": [
    "age = input(\"Enter your age: \")\n",
    "print(\"Hello, \" + name + \"!\")\n",
    "type(age)"
   ]
  },
  {
   "cell_type": "markdown",
   "id": "eb0f7b44-5a35-4280-8fb9-5c6c67447878",
   "metadata": {},
   "source": [
    "##Swapping"
   ]
  },
  {
   "cell_type": "code",
   "execution_count": 19,
   "id": "c15be8a1-29c1-462a-b3fa-984cb43b0ad3",
   "metadata": {},
   "outputs": [
    {
     "data": {
      "text/plain": [
       "(6, 4)"
      ]
     },
     "execution_count": 19,
     "metadata": {},
     "output_type": "execute_result"
    }
   ],
   "source": [
    "x=4\n",
    "y=6\n",
    "x,y=y,x\n",
    "x,y"
   ]
  },
  {
   "cell_type": "code",
   "execution_count": 20,
   "id": "1d120556-cdae-49cc-a2cc-7cdecdb0eb4a",
   "metadata": {},
   "outputs": [
    {
     "name": "stdout",
     "output_type": "stream",
     "text": [
      "var_1 = False\n",
      "var_2 = True\n"
     ]
    }
   ],
   "source": [
    "var_1 = True   \n",
    "var_2 = False \n",
    "\n",
    "var_1 = var_1 ^ var_2  \n",
    "var_2 = var_1 ^ var_2   \n",
    "var_1 = var_1 ^ var_2  \n",
    "\n",
    "print(\"var_1 =\", var_1)  # False\n",
    "print(\"var_2 =\", var_2 ) # True\n"
   ]
  }
 ],
 "metadata": {
  "kernelspec": {
   "display_name": "Python [conda env:base] *",
   "language": "python",
   "name": "conda-base-py"
  },
  "language_info": {
   "codemirror_mode": {
    "name": "ipython",
    "version": 3
   },
   "file_extension": ".py",
   "mimetype": "text/x-python",
   "name": "python",
   "nbconvert_exporter": "python",
   "pygments_lexer": "ipython3",
   "version": "3.11.7"
  }
 },
 "nbformat": 4,
 "nbformat_minor": 5
}
