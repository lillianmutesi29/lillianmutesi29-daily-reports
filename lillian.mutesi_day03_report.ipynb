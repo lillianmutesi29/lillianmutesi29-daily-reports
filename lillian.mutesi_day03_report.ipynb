{
 "cells": [
  {
   "cell_type": "markdown",
   "id": "53eb8d3e-036d-4610-ab50-f3bb37938e43",
   "metadata": {},
   "source": [
    "### Strings and files"
   ]
  },
  {
   "cell_type": "code",
   "execution_count": 1,
   "id": "ed876d02-a8b6-4172-9697-103889a7b4f8",
   "metadata": {},
   "outputs": [],
   "source": [
    "string_1=\"Will you be at the meeting tonight?\"\n",
    "string_2=\"Yes, James replied.\""
   ]
  },
  {
   "cell_type": "code",
   "execution_count": 2,
   "id": "49200b12-27fa-488c-8d10-2999a904f306",
   "metadata": {},
   "outputs": [
    {
     "name": "stdout",
     "output_type": "stream",
     "text": [
      "Will you be at the meeting tonight?\n"
     ]
    }
   ],
   "source": [
    "print(string_1)"
   ]
  },
  {
   "cell_type": "code",
   "execution_count": 3,
   "id": "bcea15a5-cd09-42f4-bacf-66e76f86324a",
   "metadata": {},
   "outputs": [
    {
     "name": "stdout",
     "output_type": "stream",
     "text": [
      "Yes, James replied.\n"
     ]
    }
   ],
   "source": [
    "print(string_2)"
   ]
  },
  {
   "cell_type": "markdown",
   "id": "41c3e009-decd-4050-afcd-64314773fba8",
   "metadata": {},
   "source": [
    "### Indexing"
   ]
  },
  {
   "cell_type": "code",
   "execution_count": 9,
   "id": "d2f3f77b-70ad-4eab-b8d1-25f0e0b0c2a5",
   "metadata": {},
   "outputs": [
    {
     "data": {
      "text/plain": [
       "'i'"
      ]
     },
     "execution_count": 9,
     "metadata": {},
     "output_type": "execute_result"
    }
   ],
   "source": [
    "string_1[1]"
   ]
  },
  {
   "cell_type": "code",
   "execution_count": 7,
   "id": "e8d956b0-2238-46aa-8bd0-5fdb0564a8cf",
   "metadata": {},
   "outputs": [
    {
     "data": {
      "text/plain": [
       "'W'"
      ]
     },
     "execution_count": 7,
     "metadata": {},
     "output_type": "execute_result"
    }
   ],
   "source": [
    "string_1[0]"
   ]
  },
  {
   "cell_type": "code",
   "execution_count": 10,
   "id": "4274ac19-d8dc-4cbc-b0a9-8050e75afc3b",
   "metadata": {},
   "outputs": [
    {
     "name": "stdout",
     "output_type": "stream",
     "text": [
      "Will you be at the meeting tonight?\n",
      "The second character of string is ?\n"
     ]
    }
   ],
   "source": [
    "print(string_1)\n",
    "print(\"The second character of string is\", string_1[-1])"
   ]
  },
  {
   "cell_type": "markdown",
   "id": "b4ff08ea-b528-429a-b064-44165c59ea7a",
   "metadata": {},
   "source": [
    "### Slicing\n",
    "\n",
    "string[start:stop:step]\n"
   ]
  },
  {
   "cell_type": "code",
   "execution_count": 11,
   "id": "ecec85b8-8b7f-4fee-b1ad-5ccd3b72d17a",
   "metadata": {},
   "outputs": [
    {
     "name": "stdout",
     "output_type": "stream",
     "text": [
      "Will you be at the meeting tonight?\n"
     ]
    },
    {
     "data": {
      "text/plain": [
       "'l o'"
      ]
     },
     "execution_count": 11,
     "metadata": {},
     "output_type": "execute_result"
    }
   ],
   "source": [
    "print(string_1)\n",
    "string_1[2:8:2]\n"
   ]
  },
  {
   "cell_type": "code",
   "execution_count": 13,
   "id": "f559dc5f-e836-4b72-88c1-73c3875daa93",
   "metadata": {},
   "outputs": [
    {
     "data": {
      "text/plain": [
       "'ggencggw'"
      ]
     },
     "execution_count": 13,
     "metadata": {},
     "output_type": "execute_result"
    }
   ],
   "source": [
    "string_3=\"ghdgdhejwnrdcf gfvgrew\"\n",
    "string_3[::3]"
   ]
  },
  {
   "cell_type": "code",
   "execution_count": 14,
   "id": "ba7d47db-5453-493f-a986-d71582b58ee1",
   "metadata": {},
   "outputs": [
    {
     "data": {
      "text/plain": [
       "19"
      ]
     },
     "execution_count": 14,
     "metadata": {},
     "output_type": "execute_result"
    }
   ],
   "source": [
    "len(string_2)"
   ]
  },
  {
   "cell_type": "markdown",
   "id": "fc2fc8a4-32df-48fb-8aa1-b041fd370a7a",
   "metadata": {},
   "source": [
    "### concatenation"
   ]
  },
  {
   "cell_type": "code",
   "execution_count": 21,
   "id": "111ba8ac-ed32-4060-bc5c-60ae5d781292",
   "metadata": {},
   "outputs": [
    {
     "name": "stdout",
     "output_type": "stream",
     "text": [
      "HelloWorld\n",
      "HelloWorld\n"
     ]
    }
   ],
   "source": [
    "my_var_1=\"Hello\"\n",
    "my_var_2=\"World\"\n",
    "concat= my_var_1 +  my_var_2\n",
    "concat1=my_var_1+my_var_2\n",
    "print(concat)\n",
    "print(concat1)"
   ]
  },
  {
   "cell_type": "code",
   "execution_count": 22,
   "id": "f721069e-6e65-4370-a4c5-5cf6e9f9f73f",
   "metadata": {},
   "outputs": [
    {
     "name": "stdout",
     "output_type": "stream",
     "text": [
      "WorldWorld\n"
     ]
    }
   ],
   "source": [
    "print(2*my_var_2)"
   ]
  },
  {
   "cell_type": "code",
   "execution_count": 23,
   "id": "614bf125-2667-45f5-b121-e8114d4dc50e",
   "metadata": {},
   "outputs": [
    {
     "ename": "TypeError",
     "evalue": "can't multiply sequence by non-int of type 'float'",
     "output_type": "error",
     "traceback": [
      "\u001b[1;31m---------------------------------------------------------------------------\u001b[0m",
      "\u001b[1;31mTypeError\u001b[0m                                 Traceback (most recent call last)",
      "Cell \u001b[1;32mIn[23], line 1\u001b[0m\n\u001b[1;32m----> 1\u001b[0m \u001b[38;5;28mprint\u001b[39m(\u001b[38;5;241m2.5\u001b[39m\u001b[38;5;241m*\u001b[39mmy_var_2)\n",
      "\u001b[1;31mTypeError\u001b[0m: can't multiply sequence by non-int of type 'float'"
     ]
    }
   ],
   "source": [
    "print(2.5*my_var_2)"
   ]
  },
  {
   "cell_type": "code",
   "execution_count": 25,
   "id": "34c20b1c-3a91-4e71-9212-0a04f0eb35d7",
   "metadata": {},
   "outputs": [
    {
     "data": {
      "text/plain": [
       "\u001b[1;31mSignature:\u001b[0m \u001b[0mmy_var_2\u001b[0m\u001b[1;33m.\u001b[0m\u001b[0mcapitalize\u001b[0m\u001b[1;33m(\u001b[0m\u001b[1;33m)\u001b[0m\u001b[1;33m\u001b[0m\u001b[1;33m\u001b[0m\u001b[0m\n",
       "\u001b[1;31mDocstring:\u001b[0m\n",
       "Return a capitalized version of the string.\n",
       "\n",
       "More specifically, make the first character have upper case and the rest lower\n",
       "case.\n",
       "\u001b[1;31mType:\u001b[0m      builtin_function_or_method"
      ]
     },
     "metadata": {},
     "output_type": "display_data"
    }
   ],
   "source": [
    "?my_var_2.capitalize"
   ]
  },
  {
   "cell_type": "code",
   "execution_count": 26,
   "id": "13e91a42-e25a-43b2-843f-256f4f3c6875",
   "metadata": {},
   "outputs": [
    {
     "name": "stdout",
     "output_type": "stream",
     "text": [
      "World\n"
     ]
    }
   ],
   "source": [
    "print(my_var_2.capitalize())"
   ]
  },
  {
   "cell_type": "code",
   "execution_count": 27,
   "id": "a4c5b04b-dd97-4cd2-8120-e76aafa7e17d",
   "metadata": {},
   "outputs": [
    {
     "data": {
      "text/plain": [
       "\u001b[1;31mSignature:\u001b[0m \u001b[0mmy_var_2\u001b[0m\u001b[1;33m.\u001b[0m\u001b[0mupper\u001b[0m\u001b[1;33m(\u001b[0m\u001b[1;33m)\u001b[0m\u001b[1;33m\u001b[0m\u001b[1;33m\u001b[0m\u001b[0m\n",
       "\u001b[1;31mDocstring:\u001b[0m Return a copy of the string converted to uppercase.\n",
       "\u001b[1;31mType:\u001b[0m      builtin_function_or_method"
      ]
     },
     "metadata": {},
     "output_type": "display_data"
    }
   ],
   "source": [
    "?my_var_2.upper\n"
   ]
  },
  {
   "cell_type": "code",
   "execution_count": 28,
   "id": "a27c1ed7-6827-40b9-8dd6-1cb33b0f9ea6",
   "metadata": {},
   "outputs": [
    {
     "name": "stdout",
     "output_type": "stream",
     "text": [
      "WORLD\n"
     ]
    }
   ],
   "source": [
    "print(my_var_2.upper())"
   ]
  },
  {
   "cell_type": "code",
   "execution_count": 31,
   "id": "ae29b3c8-6d42-47f9-b255-c9d49d15c71d",
   "metadata": {},
   "outputs": [
    {
     "data": {
      "text/plain": [
       "\u001b[1;31mSignature:\u001b[0m \u001b[0mmy_var_2\u001b[0m\u001b[1;33m.\u001b[0m\u001b[0mlower\u001b[0m\u001b[1;33m(\u001b[0m\u001b[1;33m)\u001b[0m\u001b[1;33m\u001b[0m\u001b[1;33m\u001b[0m\u001b[0m\n",
       "\u001b[1;31mDocstring:\u001b[0m Return a copy of the string converted to lowercase.\n",
       "\u001b[1;31mType:\u001b[0m      builtin_function_or_method"
      ]
     },
     "metadata": {},
     "output_type": "display_data"
    }
   ],
   "source": [
    "?my_var_2.lower"
   ]
  },
  {
   "cell_type": "code",
   "execution_count": 30,
   "id": "21418db7-0208-4c4c-9c26-ade676d0ac52",
   "metadata": {},
   "outputs": [
    {
     "name": "stdout",
     "output_type": "stream",
     "text": [
      "world\n"
     ]
    }
   ],
   "source": [
    "print(my_var_2.lower())"
   ]
  },
  {
   "cell_type": "code",
   "execution_count": 32,
   "id": "1406c631-6ea4-4553-a248-dc4c8f9e723f",
   "metadata": {},
   "outputs": [
    {
     "data": {
      "text/plain": [
       "\u001b[1;31mSignature:\u001b[0m \u001b[0mmy_var_2\u001b[0m\u001b[1;33m.\u001b[0m\u001b[0mtitle\u001b[0m\u001b[1;33m(\u001b[0m\u001b[1;33m)\u001b[0m\u001b[1;33m\u001b[0m\u001b[1;33m\u001b[0m\u001b[0m\n",
       "\u001b[1;31mDocstring:\u001b[0m\n",
       "Return a version of the string where each word is titlecased.\n",
       "\n",
       "More specifically, words start with uppercased characters and all remaining\n",
       "cased characters have lower case.\n",
       "\u001b[1;31mType:\u001b[0m      builtin_function_or_method"
      ]
     },
     "metadata": {},
     "output_type": "display_data"
    }
   ],
   "source": [
    "?my_var_2.title"
   ]
  },
  {
   "cell_type": "code",
   "execution_count": 33,
   "id": "b5c1daf6-7533-4de8-aab6-60b997cef702",
   "metadata": {},
   "outputs": [
    {
     "name": "stdout",
     "output_type": "stream",
     "text": [
      "World\n"
     ]
    }
   ],
   "source": [
    "print(my_var_2.title())"
   ]
  },
  {
   "cell_type": "code",
   "execution_count": 44,
   "id": "ed4834bb-8ad6-4a9a-99b3-6016e9811703",
   "metadata": {},
   "outputs": [
    {
     "data": {
      "text/plain": [
       "['__add__',\n",
       " '__class__',\n",
       " '__contains__',\n",
       " '__delattr__',\n",
       " '__dir__',\n",
       " '__doc__',\n",
       " '__eq__',\n",
       " '__format__',\n",
       " '__ge__',\n",
       " '__getattribute__',\n",
       " '__getitem__',\n",
       " '__getnewargs__',\n",
       " '__getstate__',\n",
       " '__gt__',\n",
       " '__hash__',\n",
       " '__init__',\n",
       " '__init_subclass__',\n",
       " '__iter__',\n",
       " '__le__',\n",
       " '__len__',\n",
       " '__lt__',\n",
       " '__mod__',\n",
       " '__mul__',\n",
       " '__ne__',\n",
       " '__new__',\n",
       " '__reduce__',\n",
       " '__reduce_ex__',\n",
       " '__repr__',\n",
       " '__rmod__',\n",
       " '__rmul__',\n",
       " '__setattr__',\n",
       " '__sizeof__',\n",
       " '__str__',\n",
       " '__subclasshook__',\n",
       " 'capitalize',\n",
       " 'casefold',\n",
       " 'center',\n",
       " 'count',\n",
       " 'encode',\n",
       " 'endswith',\n",
       " 'expandtabs',\n",
       " 'find',\n",
       " 'format',\n",
       " 'format_map',\n",
       " 'index',\n",
       " 'isalnum',\n",
       " 'isalpha',\n",
       " 'isascii',\n",
       " 'isdecimal',\n",
       " 'isdigit',\n",
       " 'isidentifier',\n",
       " 'islower',\n",
       " 'isnumeric',\n",
       " 'isprintable',\n",
       " 'isspace',\n",
       " 'istitle',\n",
       " 'isupper',\n",
       " 'join',\n",
       " 'ljust',\n",
       " 'lower',\n",
       " 'lstrip',\n",
       " 'maketrans',\n",
       " 'partition',\n",
       " 'removeprefix',\n",
       " 'removesuffix',\n",
       " 'replace',\n",
       " 'rfind',\n",
       " 'rindex',\n",
       " 'rjust',\n",
       " 'rpartition',\n",
       " 'rsplit',\n",
       " 'rstrip',\n",
       " 'split',\n",
       " 'splitlines',\n",
       " 'startswith',\n",
       " 'strip',\n",
       " 'swapcase',\n",
       " 'title',\n",
       " 'translate',\n",
       " 'upper',\n",
       " 'zfill']"
      ]
     },
     "execution_count": 44,
     "metadata": {},
     "output_type": "execute_result"
    }
   ],
   "source": [
    "string_4=\"hello am glad to meet you?\"\n",
    "dir(string_4)"
   ]
  },
  {
   "cell_type": "code",
   "execution_count": 45,
   "id": "2191e4f7-43a5-490b-a503-6ea7839fa81f",
   "metadata": {},
   "outputs": [
    {
     "name": "stdout",
     "output_type": "stream",
     "text": [
      "Hello Am Glad To Meet You?\n"
     ]
    }
   ],
   "source": [
    "print(string_4.title())"
   ]
  },
  {
   "cell_type": "code",
   "execution_count": 46,
   "id": "fbeb87ad-3630-4a25-8dad-06d71f30dd29",
   "metadata": {},
   "outputs": [
    {
     "data": {
      "text/plain": [
       "['hello', 'am', 'glad', 'to', 'meet', 'you?']"
      ]
     },
     "execution_count": 46,
     "metadata": {},
     "output_type": "execute_result"
    }
   ],
   "source": [
    "string_4.split()"
   ]
  },
  {
   "cell_type": "code",
   "execution_count": 47,
   "id": "7c4b5a81-dce2-455a-b457-0eeb85d1580d",
   "metadata": {},
   "outputs": [
    {
     "data": {
      "text/plain": [
       "\u001b[1;31mSignature:\u001b[0m      \u001b[0mstring_4\u001b[0m\u001b[1;33m.\u001b[0m\u001b[0m__add__\u001b[0m\u001b[1;33m(\u001b[0m\u001b[0mvalue\u001b[0m\u001b[1;33m,\u001b[0m \u001b[1;33m/\u001b[0m\u001b[1;33m)\u001b[0m\u001b[1;33m\u001b[0m\u001b[1;33m\u001b[0m\u001b[0m\n",
       "\u001b[1;31mCall signature:\u001b[0m \u001b[0mstring_4\u001b[0m\u001b[1;33m.\u001b[0m\u001b[0m__add__\u001b[0m\u001b[1;33m(\u001b[0m\u001b[1;33m*\u001b[0m\u001b[0margs\u001b[0m\u001b[1;33m,\u001b[0m \u001b[1;33m**\u001b[0m\u001b[0mkwargs\u001b[0m\u001b[1;33m)\u001b[0m\u001b[1;33m\u001b[0m\u001b[1;33m\u001b[0m\u001b[0m\n",
       "\u001b[1;31mType:\u001b[0m           method-wrapper\n",
       "\u001b[1;31mString form:\u001b[0m    <method-wrapper '__add__' of str object at 0x000002AB6715B280>\n",
       "\u001b[1;31mDocstring:\u001b[0m      Return self+value."
      ]
     },
     "metadata": {},
     "output_type": "display_data"
    }
   ],
   "source": [
    "?string_4.__add__"
   ]
  },
  {
   "cell_type": "code",
   "execution_count": 48,
   "id": "6d356d37-da39-4bd0-a88f-7352f0a63d48",
   "metadata": {},
   "outputs": [
    {
     "data": {
      "text/plain": [
       "'hello am glad to meet you?Its a pleasure'"
      ]
     },
     "execution_count": 48,
     "metadata": {},
     "output_type": "execute_result"
    }
   ],
   "source": [
    "string_4.__add__(\"Its a pleasure\")"
   ]
  },
  {
   "cell_type": "code",
   "execution_count": 52,
   "id": "550254b0-da39-4d4f-8fd5-36c2fc11121a",
   "metadata": {},
   "outputs": [
    {
     "data": {
      "text/plain": [
       "\u001b[1;31mDocstring:\u001b[0m\n",
       "S.index(sub[, start[, end]]) -> int\n",
       "\n",
       "Return the lowest index in S where substring sub is found,\n",
       "such that sub is contained within S[start:end].  Optional\n",
       "arguments start and end are interpreted as in slice notation.\n",
       "\n",
       "Raises ValueError when the substring is not found.\n",
       "\u001b[1;31mType:\u001b[0m      builtin_function_or_method"
      ]
     },
     "metadata": {},
     "output_type": "display_data"
    }
   ],
   "source": [
    "?string_4.index"
   ]
  },
  {
   "cell_type": "code",
   "execution_count": 62,
   "id": "4def7125-2b03-41c1-bc72-8522d4389b7f",
   "metadata": {},
   "outputs": [
    {
     "data": {
      "text/plain": [
       "9"
      ]
     },
     "execution_count": 62,
     "metadata": {},
     "output_type": "execute_result"
    }
   ],
   "source": [
    "string_4.index(\"glad\")\n",
    "\n",
    "\n"
   ]
  },
  {
   "cell_type": "code",
   "execution_count": 69,
   "id": "a19b4f6e-4e0d-4467-b58a-948b2847f571",
   "metadata": {},
   "outputs": [
    {
     "name": "stdout",
     "output_type": "stream",
     "text": [
      "fghij \n",
      "aims Class \n",
      "Rwanda 2025\n",
      "this is really cool\n"
     ]
    }
   ],
   "source": [
    " file = open('testfile.txt', 'w')\n",
    "file.write(\"\"\"fghij \n",
    "aims Class \n",
    "Rwanda 2025\n",
    "this is really cool\"\"\")\n",
    "file.close()\n",
    "\n",
    "file = open('testfile.txt', 'r')\n",
    "print(file.read()) \n",
    "file.close()"
   ]
  },
  {
   "cell_type": "code",
   "execution_count": 70,
   "id": "892df6ce-882a-437c-ab53-70ecabf2e08e",
   "metadata": {},
   "outputs": [
    {
     "data": {
      "text/plain": [
       "_io.TextIOWrapper"
      ]
     },
     "execution_count": 70,
     "metadata": {},
     "output_type": "execute_result"
    }
   ],
   "source": [
    "type(file)"
   ]
  },
  {
   "cell_type": "code",
   "execution_count": 76,
   "id": "9008d25d-0ddf-4054-81c9-1eca134c0b42",
   "metadata": {},
   "outputs": [],
   "source": [
    "to_write=open('outfile.txt','w')\n",
    "to_write.write(\"it is raining cats and dogs\")\n",
    "to_write.close()\n"
   ]
  },
  {
   "cell_type": "code",
   "execution_count": 1,
   "id": "3e598199-b5b8-4a7b-be8f-8f920154372e",
   "metadata": {},
   "outputs": [
    {
     "data": {
      "text/plain": [
       "'it is raining cats and dogs'"
      ]
     },
     "execution_count": 1,
     "metadata": {},
     "output_type": "execute_result"
    }
   ],
   "source": [
    "to_write=open('outfile.txt','r')\n",
    "to_write.readline()"
   ]
  },
  {
   "cell_type": "code",
   "execution_count": 3,
   "id": "ae885720-9a18-4514-9698-b7f6bdc6d6ef",
   "metadata": {},
   "outputs": [
    {
     "data": {
      "text/plain": [
       "\u001b[1;31mSignature:\u001b[0m \u001b[0mto_write\u001b[0m\u001b[1;33m.\u001b[0m\u001b[0mreadline\u001b[0m\u001b[1;33m(\u001b[0m\u001b[0msize\u001b[0m\u001b[1;33m=\u001b[0m\u001b[1;33m-\u001b[0m\u001b[1;36m1\u001b[0m\u001b[1;33m,\u001b[0m \u001b[1;33m/\u001b[0m\u001b[1;33m)\u001b[0m\u001b[1;33m\u001b[0m\u001b[1;33m\u001b[0m\u001b[0m\n",
       "\u001b[1;31mDocstring:\u001b[0m\n",
       "Read until newline or EOF.\n",
       "\n",
       "Returns an empty string if EOF is hit immediately.\n",
       "\u001b[1;31mType:\u001b[0m      builtin_function_or_method"
      ]
     },
     "metadata": {},
     "output_type": "display_data"
    }
   ],
   "source": [
    "?to_write.readline"
   ]
  }
 ],
 "metadata": {
  "kernelspec": {
   "display_name": "Python [conda env:base] *",
   "language": "python",
   "name": "conda-base-py"
  },
  "language_info": {
   "codemirror_mode": {
    "name": "ipython",
    "version": 3
   },
   "file_extension": ".py",
   "mimetype": "text/x-python",
   "name": "python",
   "nbconvert_exporter": "python",
   "pygments_lexer": "ipython3",
   "version": "3.11.7"
  }
 },
 "nbformat": 4,
 "nbformat_minor": 5
}
