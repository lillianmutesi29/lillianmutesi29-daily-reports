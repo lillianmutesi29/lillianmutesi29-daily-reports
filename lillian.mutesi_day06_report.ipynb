{
 "cells": [
  {
   "cell_type": "code",
   "execution_count": 1,
   "id": "72ef5d6b-d4fc-4f64-9e0a-cca66065518d",
   "metadata": {},
   "outputs": [
    {
     "name": "stdout",
     "output_type": "stream",
     "text": [
      "27\n"
     ]
    }
   ],
   "source": [
    "a=27\n",
    "print(a)\n"
   ]
  },
  {
   "cell_type": "markdown",
   "id": "1f17c823-c37b-4629-8a53-70409442efe5",
   "metadata": {},
   "source": [
    "### if...elif..else\n",
    "```\n",
    "if.....:\n",
    "  instruction1....\n",
    "\n",
    " ```    "
   ]
  },
  {
   "cell_type": "code",
   "execution_count": 9,
   "id": "87ddea13-bc4d-43a3-a676-d6079cddece5",
   "metadata": {},
   "outputs": [
    {
     "name": "stdout",
     "output_type": "stream",
     "text": [
      "27\n",
      "we donot have it\n"
     ]
    }
   ],
   "source": [
    "a=27\n",
    "print(a)\n",
    "if(a>29):\n",
    " print(\"we have it\")\n",
    "else:\n",
    "    print('we donot have it')"
   ]
  },
  {
   "cell_type": "code",
   "execution_count": 18,
   "id": "19afea16-ba60-4eb3-9c8e-58f872d0a2e3",
   "metadata": {},
   "outputs": [
    {
     "name": "stdout",
     "output_type": "stream",
     "text": [
      "it is zero\n"
     ]
    }
   ],
   "source": [
    "x=0\n",
    "if x>0:\n",
    "    print('positive number')\n",
    "elif x<0:\n",
    "    print('negative number')\n",
    "else:\n",
    "  print('it is zero')"
   ]
  },
  {
   "cell_type": "code",
   "execution_count": 21,
   "id": "e363f71d-050d-4f96-ab01-4f4159f3275f",
   "metadata": {},
   "outputs": [
    {
     "name": "stdout",
     "output_type": "stream",
     "text": [
      "a is greater than b\n",
      "small difference\n"
     ]
    }
   ],
   "source": [
    "a=15\n",
    "b=10\n",
    "if a>b:\n",
    "    print('a is greater than b')\n",
    "    if(a-b>5):\n",
    "        print('There is a large difference')\n",
    "    else:\n",
    "        print('small difference')\n",
    "else:\n",
    "    print('a is  less than b')"
   ]
  },
  {
   "cell_type": "code",
   "execution_count": 34,
   "id": "c2c2ff1a-55e8-4990-a017-1c6e017e662d",
   "metadata": {},
   "outputs": [
    {
     "name": "stdin",
     "output_type": "stream",
     "text": [
      "enter the value of a: 2\n"
     ]
    },
    {
     "data": {
      "text/plain": [
       "str"
      ]
     },
     "execution_count": 34,
     "metadata": {},
     "output_type": "execute_result"
    }
   ],
   "source": [
    "a=input('enter the value of a:')\n",
    "type(a)\n",
    "result1=(-b+ delta)/(2*a)\n",
    "result2=(-b- delta)/(2*a)"
   ]
  },
  {
   "cell_type": "code",
   "execution_count": 18,
   "id": "ebdc02c2-2117-4253-99c6-8a6a20b4125f",
   "metadata": {},
   "outputs": [
    {
     "name": "stdin",
     "output_type": "stream",
     "text": [
      "Enter the value of a:  0\n",
      "Enter the value of b:  9\n",
      "Enter the value of c:  6\n"
     ]
    },
    {
     "name": "stdout",
     "output_type": "stream",
     "text": [
      "Not quadratic\n"
     ]
    }
   ],
   "source": [
    "\n",
    "import math\n",
    "\n",
    "a = int(input('Enter the value of a: '))\n",
    "b = int(input('Enter the value of b: '))\n",
    "c = int(input('Enter the value of c: '))\n",
    "\n",
    "if a == 0:\n",
    "    print(\"Not quadratic\")\n",
    "else:\n",
    "    delta = b**2 - (4*a*c)\n",
    "\n",
    "    if delta == 0:\n",
    "        print(\"We have repeated roots\")\n",
    "        repeated = -b / (2*a)\n",
    "        print(\"This is the repeated root:\", repeated)\n",
    "\n",
    "    elif delta > 0:\n",
    "        print(\"We have two distinct roots\")\n",
    "        result1 = (-b + math.sqrt(delta)) / (2*a)\n",
    "        result2 = (-b - math.sqrt(delta)) / (2*a)\n",
    "        print(\"Two roots:\",result1,result2)\n",
    "        print(f\"two roots{result1} {result2} are my roots\")\n",
    "\n",
    "    else:\n",
    "        print(\"Complex roots\")\n",
    "        real = -b / (2*a)\n",
    "        imaginary = math.sqrt(-delta) / (2*a)\n",
    "        print(f\"Roots are {real}+{imaginary}i and {real}-{imaginary}i\")\n",
    "\n",
    "    \n",
    "\n"
   ]
  },
  {
   "cell_type": "code",
   "execution_count": 1,
   "id": "66f3f0cd-58f2-41e1-9352-9a73957515ab",
   "metadata": {},
   "outputs": [
    {
     "name": "stdin",
     "output_type": "stream",
     "text": [
      "a: 8\n",
      "b: 6\n",
      "c: 9\n"
     ]
    },
    {
     "name": "stdout",
     "output_type": "stream",
     "text": [
      "its quadratic\n",
      "no real root\n"
     ]
    }
   ],
   "source": [
    "a=int(input(\"a:\"))\n",
    "b=int(input(\"b:\"))\n",
    "c=int(input(\"c:\"))\n",
    "delta=b*b-(4*a*c)\n",
    "if a!=0:\n",
    "    print(\"its quadratic\")\n",
    "    if delta>=0:\n",
    "        x1=(-b+(delta)**0.5)/2*a\n",
    "        x2=(-b-(delta)**0.5)/2*a\n",
    "        print(x1,x2)\n",
    "    else:\n",
    "        print(\"no real root\")\n",
    "else:\n",
    "    print(\"not quadratic\")\n",
    "    "
   ]
  },
  {
   "cell_type": "code",
   "execution_count": 20,
   "id": "94142c03-df37-4648-b453-782c31fe8d60",
   "metadata": {},
   "outputs": [
    {
     "data": {
      "text/plain": [
       "4.795831523312719"
      ]
     },
     "execution_count": 20,
     "metadata": {},
     "output_type": "execute_result"
    }
   ],
   "source": [
    " imaginary = math.sqrt(-23)\n",
    "imaginary"
   ]
  },
  {
   "cell_type": "code",
   "execution_count": 28,
   "id": "943220da-8272-4046-a08c-2251ee4d2e1b",
   "metadata": {},
   "outputs": [
    {
     "name": "stdout",
     "output_type": "stream",
     "text": [
      "manerty\n",
      "mane   gty\n"
     ]
    }
   ],
   "source": [
    "kane=\"mane\"\n",
    "print(f\"{kane}rty\")\n",
    "print(f\"{kane:7}gty\")"
   ]
  },
  {
   "cell_type": "code",
   "execution_count": 45,
   "id": "b7f3ad44-59a4-47e7-a969-255a60c0d46d",
   "metadata": {},
   "outputs": [
    {
     "data": {
      "text/plain": [
       "(4.10759023698152e-16+6.708203932499369j)"
      ]
     },
     "execution_count": 45,
     "metadata": {},
     "output_type": "execute_result"
    }
   ],
   "source": [
    "(-45)**0.5"
   ]
  },
  {
   "cell_type": "code",
   "execution_count": 54,
   "id": "f88b02b6-cb50-4dce-900d-edcf1965836a",
   "metadata": {},
   "outputs": [
    {
     "name": "stdout",
     "output_type": "stream",
     "text": [
      "its integer\n",
      "its integer\n",
      "its integer\n",
      "its integer\n",
      "it's a fruit\n",
      "its integer\n",
      "its integer\n",
      "it's a fruit\n"
     ]
    }
   ],
   "source": [
    "list_fruit=[4,76,8,9,\"mango\",35,7,\"orange\"]\n",
    "\n",
    "\n",
    "for i in list_fruit:\n",
    "    if (i==\"orange\" or i==\"mango\"):\n",
    "        print(\"it's a fruit\")\n",
    "    else:\n",
    "        print(\"its integer\")\n",
    "        \n",
    "    \n",
    "            "
   ]
  },
  {
   "cell_type": "code",
   "execution_count": 56,
   "id": "2d8896c7-110f-43ab-93b7-9a1a4acd3605",
   "metadata": {},
   "outputs": [
    {
     "name": "stdout",
     "output_type": "stream",
     "text": [
      "it is a consonant\n",
      "the letter is a vowel\n",
      "it is a consonant\n",
      "it is a consonant\n",
      "the letter is a vowel\n",
      "it is a consonant\n",
      "there is space\n",
      "it is a consonant\n",
      "the letter is a vowel\n",
      "it is a consonant\n",
      "it is a consonant\n",
      "it is a consonant\n",
      "it is a consonant\n"
     ]
    }
   ],
   "source": [
    "sentence=\"Hello, world.\"\n",
    "for letter in sentence:\n",
    "    if letter in \"AEIOUaeiou\":\n",
    "        print(\"the letter is a vowel\")\n",
    "    elif letter == \" \":\n",
    "        print(\"there is space\")\n",
    "    else:\n",
    "        print(\"it is a consonant\")\n",
    "         \n"
   ]
  },
  {
   "cell_type": "code",
   "execution_count": null,
   "id": "8ab1de87-2f74-4edc-85d1-a4be6f79ac1e",
   "metadata": {},
   "outputs": [],
   "source": [
    "\n"
   ]
  }
 ],
 "metadata": {
  "kernelspec": {
   "display_name": "Python [conda env:base] *",
   "language": "python",
   "name": "conda-base-py"
  },
  "language_info": {
   "codemirror_mode": {
    "name": "ipython",
    "version": 3
   },
   "file_extension": ".py",
   "mimetype": "text/x-python",
   "name": "python",
   "nbconvert_exporter": "python",
   "pygments_lexer": "ipython3",
   "version": "3.11.7"
  }
 },
 "nbformat": 4,
 "nbformat_minor": 5
}
